{
 "cells": [
  {
   "cell_type": "code",
   "execution_count": 2,
   "id": "48830756",
   "metadata": {
    "slideshow": {
     "slide_type": "slide"
    }
   },
   "outputs": [],
   "source": [
    "import os\n",
    "import subprocess\n",
    "import pandas as pd\n",
    "import glob"
   ]
  },
  {
   "cell_type": "code",
   "execution_count": 2,
   "id": "fa0ac5ee",
   "metadata": {
    "slideshow": {
     "slide_type": "subslide"
    }
   },
   "outputs": [
    {
     "data": {
      "text/plain": [
       "'/Users/gracer/Desktop/fsl_course_data/script'"
      ]
     },
     "execution_count": 2,
     "metadata": {},
     "output_type": "execute_result"
    }
   ],
   "source": [
    "pwd\n"
   ]
  },
  {
   "cell_type": "code",
   "execution_count": 3,
   "id": "6febabf6",
   "metadata": {
    "slideshow": {
     "slide_type": "subslide"
    }
   },
   "outputs": [],
   "source": [
    "basepath = '/Users/gracer/Desktop/fsl_course_data'"
   ]
  },
  {
   "cell_type": "code",
   "execution_count": 6,
   "id": "3956dadf",
   "metadata": {
    "slideshow": {
     "slide_type": "subslide"
    }
   },
   "outputs": [
    {
     "data": {
      "text/plain": [
       "True"
      ]
     },
     "execution_count": 6,
     "metadata": {},
     "output_type": "execute_result"
    }
   ],
   "source": [
    "os.path.exists(os.path.join(basepath, 'fmri1','fluency_task'))"
   ]
  },
  {
   "cell_type": "code",
   "execution_count": 9,
   "id": "b992d39a",
   "metadata": {
    "slideshow": {
     "slide_type": "slide"
    }
   },
   "outputs": [
    {
     "name": "stdout",
     "output_type": "stream",
     "text": [
      "/Users/gracer/Desktop/fsl_course_data/fmri1/fluency_task/fmri.nii.gz\n",
      "/Users/gracer/Desktop/fsl_course_data/fmri1/fluency_task/structural_brain.nii.gz\n",
      "/Users/gracer/Desktop/fsl_course_data/fmri1/fluency_task/fmri_brain.nii.gz\n",
      "/Users/gracer/Desktop/fsl_course_data/fmri1/fluency_task/fmri_brain_mask.nii.gz\n",
      "/Users/gracer/Desktop/fsl_course_data/fmri1/fluency_task/structural.nii.gz\n"
     ]
    }
   ],
   "source": [
    "for x in glob.glob(os.path.join(basepath, 'fmri1','fluency_task','*.nii.gz')):\n",
    "    print(x)"
   ]
  },
  {
   "cell_type": "markdown",
   "id": "829b31b9",
   "metadata": {
    "slideshow": {
     "slide_type": "subslide"
    }
   },
   "source": [
    "raw\n",
    "-- sub-001> fmri.nii.gz, struct.nii.gz\n",
    "-- sub-002> fmri.nii.gz, struct.nii.gz"
   ]
  },
  {
   "cell_type": "code",
   "execution_count": 19,
   "id": "47a03a04",
   "metadata": {
    "slideshow": {
     "slide_type": "slide"
    }
   },
   "outputs": [
    {
     "name": "stdout",
     "output_type": "stream",
     "text": [
      "002\n",
      "001\n"
     ]
    }
   ],
   "source": [
    "SUBNUM = []\n",
    "for z in glob.glob(os.path.join(basepath,'fmri1','raw_data','sub-*')):\n",
    "    y = z.split('/')[-1].split('-')[-1]\n",
    "    SUBNUM.append(y)"
   ]
  },
  {
   "cell_type": "code",
   "execution_count": 20,
   "id": "641ddfe7",
   "metadata": {
    "slideshow": {
     "slide_type": "subslide"
    }
   },
   "outputs": [
    {
     "data": {
      "text/plain": [
       "['002', '001']"
      ]
     },
     "execution_count": 20,
     "metadata": {},
     "output_type": "execute_result"
    }
   ],
   "source": [
    "SUBNUM"
   ]
  },
  {
   "cell_type": "code",
   "execution_count": 21,
   "id": "1b08c742",
   "metadata": {
    "slideshow": {
     "slide_type": "subslide"
    }
   },
   "outputs": [],
   "source": [
    "SUBNUM = ['002','001']"
   ]
  },
  {
   "cell_type": "code",
   "execution_count": 4,
   "id": "08a53214",
   "metadata": {
    "slideshow": {
     "slide_type": "slide"
    }
   },
   "outputs": [
    {
     "ename": "NameError",
     "evalue": "name 'subnum' is not defined",
     "output_type": "error",
     "traceback": [
      "\u001b[0;31m---------------------------------------------------------------------------\u001b[0m",
      "\u001b[0;31mNameError\u001b[0m                                 Traceback (most recent call last)",
      "Cell \u001b[0;32mIn [4], line 1\u001b[0m\n\u001b[0;32m----> 1\u001b[0m cmd \u001b[38;5;241m=\u001b[39m \u001b[38;5;124m'\u001b[39m\u001b[38;5;124mfslnvol \u001b[39m\u001b[38;5;132;01m%s\u001b[39;00m\u001b[38;5;124m'\u001b[39m\u001b[38;5;241m%\u001b[39msubnum\n",
      "\u001b[0;31mNameError\u001b[0m: name 'subnum' is not defined"
     ]
    }
   ],
   "source": [
    "cmd = 'fslnvol %s'%subnum\n"
   ]
  },
  {
   "cell_type": "code",
   "execution_count": 29,
   "id": "f8ffd571",
   "metadata": {
    "slideshow": {
     "slide_type": "slide"
    }
   },
   "outputs": [
    {
     "name": "stdout",
     "output_type": "stream",
     "text": [
      "106\n",
      "106\n"
     ]
    }
   ],
   "source": [
    "for sub in SUBNUM:\n",
    "    SUB = os.path.join(basepath, 'fmri1','raw_data','sub-%s'%sub,'fmri.nii.gz')\n",
    "    cmd = 'fslnvols %s'%SUB\n",
    "    cmd_split = cmd.split(' ')\n",
    "    subprocess.run(cmd_split)"
   ]
  },
  {
   "cell_type": "markdown",
   "id": "33922a86",
   "metadata": {
    "slideshow": {
     "slide_type": "slide"
    }
   },
   "source": [
    "# Warm up 10/18/22\n",
    "Based on what you know and information below. Get the TR value for the fmri_brain.nii.gz scan using subprocess. You will want to use the check_output function in subprocess. This will allow you to assign the output to a variable in python. \n",
    "```\n",
    "X = subprocess.check_output(['ls','-a','<path to direcrory>'] \n",
    "```\n",
    "The above would assign all the output from the ls command using the -a flag to the variable X\n",
    "Check_output returns bytes (not STRINGS). So we also need to decode the byte into a string\n",
    "```\n",
    "Y = X.decode('utf-8')\n",
    "```\n",
    "Now Y is a string. \n",
    "\n",
    "You final TR should be a string with only the value of the TR, no extra characters\n",
    "\n",
    " You will use the following command:\n",
    " ```\n",
    " fslval <functional scan> pixdim4\n",
    " ```"
   ]
  },
  {
   "cell_type": "code",
   "execution_count": 1,
   "id": "c87a4db7",
   "metadata": {
    "slideshow": {
     "slide_type": "slide"
    }
   },
   "outputs": [],
   "source": [
    "import os\n",
    "import subprocess\n",
    "import pandas as pd\n",
    "import glob"
   ]
  },
  {
   "cell_type": "code",
   "execution_count": 5,
   "id": "618cd831",
   "metadata": {
    "slideshow": {
     "slide_type": "subslide"
    }
   },
   "outputs": [],
   "source": [
    "func_path = os.path.join(basepath, 'fmri1', 'fluency_task','fmri_brain.nii.gz')"
   ]
  },
  {
   "cell_type": "code",
   "execution_count": 6,
   "id": "3f1d31af",
   "metadata": {
    "slideshow": {
     "slide_type": "subslide"
    }
   },
   "outputs": [
    {
     "data": {
      "text/plain": [
       "True"
      ]
     },
     "execution_count": 6,
     "metadata": {},
     "output_type": "execute_result"
    }
   ],
   "source": [
    "os.path.exists(func_path)"
   ]
  },
  {
   "cell_type": "code",
   "execution_count": 17,
   "id": "d9eff914",
   "metadata": {
    "slideshow": {
     "slide_type": "slide"
    }
   },
   "outputs": [
    {
     "name": "stdout",
     "output_type": "stream",
     "text": [
      "fslval /Users/gracer/Desktop/fsl_course_data/fmri1/fluency_task/fmri_brain.nii.gz pixdim4\n",
      "['fslval', '/Users/gracer/Desktop/fsl_course_data/fmri1/fluency_task/fmri_brain.nii.gz', 'pixdim4']\n",
      "b'4.200000 \\n'\n",
      "4.200000 \n",
      "\n",
      "4.200000\n",
      "4.200000\n"
     ]
    }
   ],
   "source": [
    "# fslval func_path pixdim4 <- original command\n",
    "# option 1\n",
    "cmd = 'fslval %s pixdim4'%func_path\n",
    "print(cmd)\n",
    "cmd_split = cmd.split(' ')\n",
    "print(cmd_split)\n",
    "trs_alt = subprocess.check_output(cmd_split)\n",
    "print(trs_alt)\n",
    "trs_alt = trs_alt.decode('utf-8')\n",
    "print(trs_alt)\n",
    "final_trs = trs_alt.split(' ')[0]\n",
    "print(final_trs)\n",
    "# option 2\n",
    "trs = subprocess.check_output(['fslval','%s'%(func_path),'pixdim4'])\n",
    "# change the byte to string\n",
    "trs = trs.decode('utf-8')\n",
    "# get the number only\n",
    "trs = trs.split(' ')[0]\n",
    "print(trs)"
   ]
  },
  {
   "cell_type": "markdown",
   "id": "3c62c42e",
   "metadata": {
    "slideshow": {
     "slide_type": "slide"
    }
   },
   "source": [
    "## Notes to self\n",
    "* naming convention = sub-001\n",
    "* subnum == the subject number\n",
    "* OUTPUT = path to the output file = os.path.join(basepath,'level1','sub-%s'%subnum)\n",
    "* TR = 4.2\n",
    "* nvols = 106\n",
    "* INPUT = path to the functional data"
   ]
  },
  {
   "cell_type": "markdown",
   "id": "e87a98c9",
   "metadata": {
    "slideshow": {
     "slide_type": "slide"
    }
   },
   "source": [
    "# Dictionary"
   ]
  },
  {
   "cell_type": "code",
   "execution_count": 18,
   "id": "64ede962",
   "metadata": {},
   "outputs": [],
   "source": [
    "inpt = os.path.join(basepath, 'fmri1','fluency_task','fmri_brain.nii.gz')"
   ]
  },
  {
   "cell_type": "code",
   "execution_count": 23,
   "id": "43f905e8",
   "metadata": {},
   "outputs": [
    {
     "data": {
      "text/plain": [
       "True"
      ]
     },
     "execution_count": 23,
     "metadata": {},
     "output_type": "execute_result"
    }
   ],
   "source": [
    "os.path.exists(inpt)"
   ]
  },
  {
   "cell_type": "code",
   "execution_count": 24,
   "id": "0a0ffd94",
   "metadata": {},
   "outputs": [],
   "source": [
    "repl_dict = {}"
   ]
  },
  {
   "cell_type": "code",
   "execution_count": 25,
   "id": "20a2dcec",
   "metadata": {},
   "outputs": [],
   "source": [
    "repl_dict.update({'INPUT':inpt})"
   ]
  },
  {
   "cell_type": "code",
   "execution_count": 26,
   "id": "a6cb26e7",
   "metadata": {},
   "outputs": [
    {
     "data": {
      "text/plain": [
       "{'INPUT': '/Users/gracer/Desktop/fsl_course_data/fmri1/fluency_task/fmri_brain.nii.gz'}"
      ]
     },
     "execution_count": 26,
     "metadata": {},
     "output_type": "execute_result"
    }
   ],
   "source": [
    "repl_dict"
   ]
  },
  {
   "cell_type": "code",
   "execution_count": 27,
   "id": "75ef0b97",
   "metadata": {},
   "outputs": [],
   "source": [
    "outpath = os.path.join(basepath,'derivatives','sub-001.feat')"
   ]
  },
  {
   "cell_type": "markdown",
   "id": "7e97b17a",
   "metadata": {},
   "source": [
    "# For next time 10/25/22\n",
    "## To do\n",
    "Update repl_dict with all of your variables that in skeleton.fsf"
   ]
  },
  {
   "cell_type": "code",
   "execution_count": null,
   "id": "4efa56cf",
   "metadata": {},
   "outputs": [],
   "source": []
  }
 ],
 "metadata": {
  "celltoolbar": "Slideshow",
  "kernelspec": {
   "display_name": "Python 3 (ipykernel)",
   "language": "python",
   "name": "python3"
  },
  "language_info": {
   "codemirror_mode": {
    "name": "ipython",
    "version": 3
   },
   "file_extension": ".py",
   "mimetype": "text/x-python",
   "name": "python",
   "nbconvert_exporter": "python",
   "pygments_lexer": "ipython3",
   "version": "3.8.8"
  }
 },
 "nbformat": 4,
 "nbformat_minor": 5
}
