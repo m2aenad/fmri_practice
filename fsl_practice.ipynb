{
 "cells": [
  {
   "cell_type": "code",
   "execution_count": 1,
   "id": "48830756",
   "metadata": {},
   "outputs": [],
   "source": [
    "import os\n",
    "import subprocess\n",
    "import pandas as pd\n",
    "import glob"
   ]
  },
  {
   "cell_type": "code",
   "execution_count": 2,
   "id": "fa0ac5ee",
   "metadata": {},
   "outputs": [
    {
     "data": {
      "text/plain": [
       "'/Users/gracer/Desktop/fsl_course_data/script'"
      ]
     },
     "execution_count": 2,
     "metadata": {},
     "output_type": "execute_result"
    }
   ],
   "source": [
    "pwd\n"
   ]
  },
  {
   "cell_type": "code",
   "execution_count": 3,
   "id": "6febabf6",
   "metadata": {},
   "outputs": [],
   "source": [
    "basepath = '/Users/gracer/Desktop/fsl_course_data'"
   ]
  },
  {
   "cell_type": "code",
   "execution_count": 6,
   "id": "3956dadf",
   "metadata": {},
   "outputs": [
    {
     "data": {
      "text/plain": [
       "True"
      ]
     },
     "execution_count": 6,
     "metadata": {},
     "output_type": "execute_result"
    }
   ],
   "source": [
    "os.path.exists(os.path.join(basepath, 'fmri1','fluency_task'))"
   ]
  },
  {
   "cell_type": "code",
   "execution_count": 9,
   "id": "b992d39a",
   "metadata": {},
   "outputs": [
    {
     "name": "stdout",
     "output_type": "stream",
     "text": [
      "/Users/gracer/Desktop/fsl_course_data/fmri1/fluency_task/fmri.nii.gz\n",
      "/Users/gracer/Desktop/fsl_course_data/fmri1/fluency_task/structural_brain.nii.gz\n",
      "/Users/gracer/Desktop/fsl_course_data/fmri1/fluency_task/fmri_brain.nii.gz\n",
      "/Users/gracer/Desktop/fsl_course_data/fmri1/fluency_task/fmri_brain_mask.nii.gz\n",
      "/Users/gracer/Desktop/fsl_course_data/fmri1/fluency_task/structural.nii.gz\n"
     ]
    }
   ],
   "source": [
    "for x in glob.glob(os.path.join(basepath, 'fmri1','fluency_task','*.nii.gz')):\n",
    "    print(x)"
   ]
  },
  {
   "cell_type": "markdown",
   "id": "829b31b9",
   "metadata": {},
   "source": [
    "raw\n",
    "-- sub-001> fmri.nii.gz, struct.nii.gz\n",
    "-- sub-002> fmri.nii.gz, struct.nii.gz"
   ]
  },
  {
   "cell_type": "code",
   "execution_count": 19,
   "id": "47a03a04",
   "metadata": {},
   "outputs": [
    {
     "name": "stdout",
     "output_type": "stream",
     "text": [
      "002\n",
      "001\n"
     ]
    }
   ],
   "source": [
    "SUBNUM = []\n",
    "for z in glob.glob(os.path.join(basepath,'fmri1','raw_data','sub-*')):\n",
    "    y = z.split('/')[-1].split('-')[-1]\n",
    "    SUBNUM.append(y)"
   ]
  },
  {
   "cell_type": "code",
   "execution_count": 20,
   "id": "641ddfe7",
   "metadata": {},
   "outputs": [
    {
     "data": {
      "text/plain": [
       "['002', '001']"
      ]
     },
     "execution_count": 20,
     "metadata": {},
     "output_type": "execute_result"
    }
   ],
   "source": [
    "SUBNUM"
   ]
  },
  {
   "cell_type": "code",
   "execution_count": 21,
   "id": "1b08c742",
   "metadata": {},
   "outputs": [],
   "source": [
    "SUBNUM = ['002','001']"
   ]
  },
  {
   "cell_type": "markdown",
   "id": "3c62c42e",
   "metadata": {},
   "source": [
    "## Notes to self\n",
    "naming convention = sub-001\n",
    "subnum == the subject number\n",
    "OUTPUT = path to the output file = os.path.join(basepath,'level1','sub-%s'%subnum)\n",
    "TR = 4.2\n",
    "nvols = 106"
   ]
  },
  {
   "cell_type": "code",
   "execution_count": 24,
   "id": "08a53214",
   "metadata": {},
   "outputs": [],
   "source": [
    "cmd = 'fslnvol %s'%subnum\n"
   ]
  },
  {
   "cell_type": "code",
   "execution_count": 29,
   "id": "f8ffd571",
   "metadata": {},
   "outputs": [
    {
     "name": "stdout",
     "output_type": "stream",
     "text": [
      "106\n",
      "106\n"
     ]
    }
   ],
   "source": [
    "for sub in SUBNUM:\n",
    "    SUB = os.path.join(basepath, 'fmri1','raw_data','sub-%s'%sub,'fmri.nii.gz')\n",
    "    cmd = 'fslnvols %s'%SUB\n",
    "    cmd_split = cmd.split(' ')\n",
    "    subprocess.run(cmd_split)"
   ]
  },
  {
   "cell_type": "code",
   "execution_count": null,
   "id": "ebdef309",
   "metadata": {},
   "outputs": [],
   "source": []
  }
 ],
 "metadata": {
  "kernelspec": {
   "display_name": "Python 3 (ipykernel)",
   "language": "python",
   "name": "python3"
  },
  "language_info": {
   "codemirror_mode": {
    "name": "ipython",
    "version": 3
   },
   "file_extension": ".py",
   "mimetype": "text/x-python",
   "name": "python",
   "nbconvert_exporter": "python",
   "pygments_lexer": "ipython3",
   "version": "3.8.8"
  }
 },
 "nbformat": 4,
 "nbformat_minor": 5
}
